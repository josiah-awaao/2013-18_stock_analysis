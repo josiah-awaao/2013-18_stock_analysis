{
 "cells": [
  {
   "cell_type": "code",
   "execution_count": 1,
   "id": "d1089ba1-6ada-4651-b4f9-148e45ce1f7c",
   "metadata": {},
   "outputs": [
    {
     "name": "stdout",
     "output_type": "stream",
     "text": [
      "Requirement already satisfied: pandas in /opt/anaconda3/lib/python3.12/site-packages (2.2.2)\n",
      "Requirement already satisfied: polars in /opt/anaconda3/lib/python3.12/site-packages (1.24.0)\n",
      "Requirement already satisfied: scikit-learn in /opt/anaconda3/lib/python3.12/site-packages (1.4.2)\n",
      "Requirement already satisfied: ta in /opt/anaconda3/lib/python3.12/site-packages (0.11.0)\n",
      "Requirement already satisfied: matplotlib in /opt/anaconda3/lib/python3.12/site-packages (3.8.4)\n",
      "Requirement already satisfied: seaborn in /opt/anaconda3/lib/python3.12/site-packages (0.13.2)\n",
      "Requirement already satisfied: pyarrow in /opt/anaconda3/lib/python3.12/site-packages (14.0.2)\n",
      "Requirement already satisfied: fastparquet in /opt/anaconda3/lib/python3.12/site-packages (2024.11.0)\n",
      "Requirement already satisfied: numpy>=1.26.0 in /opt/anaconda3/lib/python3.12/site-packages (from pandas) (1.26.4)\n",
      "Requirement already satisfied: python-dateutil>=2.8.2 in /opt/anaconda3/lib/python3.12/site-packages (from pandas) (2.9.0.post0)\n",
      "Requirement already satisfied: pytz>=2020.1 in /opt/anaconda3/lib/python3.12/site-packages (from pandas) (2024.1)\n",
      "Requirement already satisfied: tzdata>=2022.7 in /opt/anaconda3/lib/python3.12/site-packages (from pandas) (2023.3)\n",
      "Requirement already satisfied: scipy>=1.6.0 in /opt/anaconda3/lib/python3.12/site-packages (from scikit-learn) (1.13.1)\n",
      "Requirement already satisfied: joblib>=1.2.0 in /opt/anaconda3/lib/python3.12/site-packages (from scikit-learn) (1.4.2)\n",
      "Requirement already satisfied: threadpoolctl>=2.0.0 in /opt/anaconda3/lib/python3.12/site-packages (from scikit-learn) (2.2.0)\n",
      "Requirement already satisfied: contourpy>=1.0.1 in /opt/anaconda3/lib/python3.12/site-packages (from matplotlib) (1.2.0)\n",
      "Requirement already satisfied: cycler>=0.10 in /opt/anaconda3/lib/python3.12/site-packages (from matplotlib) (0.11.0)\n",
      "Requirement already satisfied: fonttools>=4.22.0 in /opt/anaconda3/lib/python3.12/site-packages (from matplotlib) (4.51.0)\n",
      "Requirement already satisfied: kiwisolver>=1.3.1 in /opt/anaconda3/lib/python3.12/site-packages (from matplotlib) (1.4.4)\n",
      "Requirement already satisfied: packaging>=20.0 in /opt/anaconda3/lib/python3.12/site-packages (from matplotlib) (23.2)\n",
      "Requirement already satisfied: pillow>=8 in /opt/anaconda3/lib/python3.12/site-packages (from matplotlib) (10.3.0)\n",
      "Requirement already satisfied: pyparsing>=2.3.1 in /opt/anaconda3/lib/python3.12/site-packages (from matplotlib) (3.0.9)\n",
      "Requirement already satisfied: cramjam>=2.3 in /opt/anaconda3/lib/python3.12/site-packages (from fastparquet) (2.9.1)\n",
      "Requirement already satisfied: fsspec in /opt/anaconda3/lib/python3.12/site-packages (from fastparquet) (2024.3.1)\n",
      "Requirement already satisfied: six>=1.5 in /opt/anaconda3/lib/python3.12/site-packages (from python-dateutil>=2.8.2->pandas) (1.16.0)\n",
      "Note: you may need to restart the kernel to use updated packages.\n"
     ]
    }
   ],
   "source": [
    "# pip install pandas polars scikit-learn ta matplotlib seaborn pyarrow fastparquet"
   ]
  },
  {
   "cell_type": "code",
   "execution_count": 2,
   "id": "1e0f9e6d-9566-4b2a-a8af-20b62c96e246",
   "metadata": {},
   "outputs": [],
   "source": [
    "import os\n",
    "import time\n",
    "import pandas as pd\n",
    "import pyarrow.parquet as pq"
   ]
  },
  {
   "cell_type": "code",
   "execution_count": 3,
   "id": "3546ebe8-bcbb-4e31-86f4-9f4686c4ed45",
   "metadata": {},
   "outputs": [
    {
     "data": {
      "text/html": [
       "<div>\n",
       "<style scoped>\n",
       "    .dataframe tbody tr th:only-of-type {\n",
       "        vertical-align: middle;\n",
       "    }\n",
       "\n",
       "    .dataframe tbody tr th {\n",
       "        vertical-align: top;\n",
       "    }\n",
       "\n",
       "    .dataframe thead th {\n",
       "        text-align: right;\n",
       "    }\n",
       "</style>\n",
       "<table border=\"1\" class=\"dataframe\">\n",
       "  <thead>\n",
       "    <tr style=\"text-align: right;\">\n",
       "      <th></th>\n",
       "      <th>date</th>\n",
       "      <th>open</th>\n",
       "      <th>high</th>\n",
       "      <th>low</th>\n",
       "      <th>close</th>\n",
       "      <th>volume</th>\n",
       "      <th>name</th>\n",
       "    </tr>\n",
       "  </thead>\n",
       "  <tbody>\n",
       "    <tr>\n",
       "      <th>0</th>\n",
       "      <td>2013-02-08</td>\n",
       "      <td>15.07</td>\n",
       "      <td>15.12</td>\n",
       "      <td>14.63</td>\n",
       "      <td>14.75</td>\n",
       "      <td>8407500</td>\n",
       "      <td>AAL</td>\n",
       "    </tr>\n",
       "    <tr>\n",
       "      <th>1</th>\n",
       "      <td>2013-02-11</td>\n",
       "      <td>14.89</td>\n",
       "      <td>15.01</td>\n",
       "      <td>14.26</td>\n",
       "      <td>14.46</td>\n",
       "      <td>8882000</td>\n",
       "      <td>AAL</td>\n",
       "    </tr>\n",
       "    <tr>\n",
       "      <th>2</th>\n",
       "      <td>2013-02-12</td>\n",
       "      <td>14.45</td>\n",
       "      <td>14.51</td>\n",
       "      <td>14.10</td>\n",
       "      <td>14.27</td>\n",
       "      <td>8126000</td>\n",
       "      <td>AAL</td>\n",
       "    </tr>\n",
       "    <tr>\n",
       "      <th>3</th>\n",
       "      <td>2013-02-13</td>\n",
       "      <td>14.30</td>\n",
       "      <td>14.94</td>\n",
       "      <td>14.25</td>\n",
       "      <td>14.66</td>\n",
       "      <td>10259500</td>\n",
       "      <td>AAL</td>\n",
       "    </tr>\n",
       "    <tr>\n",
       "      <th>4</th>\n",
       "      <td>2013-02-14</td>\n",
       "      <td>14.94</td>\n",
       "      <td>14.96</td>\n",
       "      <td>13.16</td>\n",
       "      <td>13.99</td>\n",
       "      <td>31879900</td>\n",
       "      <td>AAL</td>\n",
       "    </tr>\n",
       "  </tbody>\n",
       "</table>\n",
       "</div>"
      ],
      "text/plain": [
       "         date   open   high    low  close    volume name\n",
       "0  2013-02-08  15.07  15.12  14.63  14.75   8407500  AAL\n",
       "1  2013-02-11  14.89  15.01  14.26  14.46   8882000  AAL\n",
       "2  2013-02-12  14.45  14.51  14.10  14.27   8126000  AAL\n",
       "3  2013-02-13  14.30  14.94  14.25  14.66  10259500  AAL\n",
       "4  2013-02-14  14.94  14.96  13.16  13.99  31879900  AAL"
      ]
     },
     "execution_count": 3,
     "metadata": {},
     "output_type": "execute_result"
    }
   ],
   "source": [
    "csv_file_path = \"all_stocks_5yr.csv\"\n",
    "parquet_file_path = \"all_stocks_5yr.parquet\"\n",
    "\n",
    "df = pd.read_csv(csv_file_path)\n",
    "\n",
    "df.head()"
   ]
  },
  {
   "cell_type": "code",
   "execution_count": 4,
   "id": "a68aca19-22d5-45fc-b160-3fd8b0db8c2a",
   "metadata": {},
   "outputs": [],
   "source": [
    "#read/write times benchmarking\n",
    "\n",
    "def benchmark_storage(df, scale_factor):\n",
    "    print(f\"\\n🚀 Benchmarking for {scale_factor}x dataset...\\n\")\n",
    "\n",
    "    # scale dataset\n",
    "    df_scaled = pd.concat([df] * scale_factor, ignore_index=True)\n",
    "\n",
    "    results = {\n",
    "        \"Scale\": scale_factor,\n",
    "        \"CSV Read Time (s)\": None,\n",
    "        \"CSV Write Time (s)\": None,\n",
    "        \"CSV Size (MB)\": None,\n",
    "        \"Parquet Read Time (s)\": None,\n",
    "        \"Parquet Write Time (s)\": None,\n",
    "        \"Parquet Size (MB)\": None\n",
    "    }\n",
    "\n",
    "    # optimized CSV handling for 100x\n",
    "    csv_scaled_path = f\"stocks_{scale_factor}x.csv\"\n",
    "\n",
    "    # measure csv write time (using chunks for efficiency)\n",
    "    start_time = time.time()\n",
    "    df_scaled.to_csv(csv_scaled_path, index=False, chunksize=1000000)  # larger chunk size for 100x\n",
    "    results[\"CSV Write Time (s)\"] = time.time() - start_time\n",
    "    print(f\"CSV written: {csv_scaled_path} in {results['CSV Write Time (s)']:.2f} seconds\")\n",
    "\n",
    "    # measure CSV read time\n",
    "    start_time = time.time()\n",
    "    pd.read_csv(csv_scaled_path)\n",
    "    results[\"CSV Read Time (s)\"] = time.time() - start_time\n",
    "    print(f\"📖 CSV read completed in {results['CSV Read Time (s)']:.2f} seconds\")\n",
    "    \n",
    "    # measure CSV file size\n",
    "    results[\"CSV Size (MB)\"] = os.path.getsize(csv_scaled_path) / (1024 * 1024)\n",
    "    print(f\"📂 CSV file size: {results['CSV Size (MB)']:.2f} MB\")\n",
    "\n",
    "    # write parquet for all scales\n",
    "    parquet_scaled_path = f\"stocks_{scale_factor}x.parquet\"\n",
    "\n",
    "    start_time = time.time()\n",
    "    df_scaled.to_parquet(parquet_scaled_path, engine=\"pyarrow\", compression=\"snappy\")\n",
    "    results[\"Parquet Write Time (s)\"] = time.time() - start_time\n",
    "    print(f\" Parquet written: {parquet_scaled_path} in {results['Parquet Write Time (s)']:.2f} seconds\")\n",
    "\n",
    "    # measure parquet read time\n",
    "    start_time = time.time()\n",
    "    pd.read_parquet(parquet_scaled_path, engine=\"pyarrow\")\n",
    "    results[\"Parquet Read Time (s)\"] = time.time() - start_time\n",
    "    print(f\"Parquet read completed in {results['Parquet Read Time (s)']:.2f} seconds\")\n",
    "\n",
    "    # measure parquet file size\n",
    "    results[\"Parquet Size (MB)\"] = os.path.getsize(parquet_scaled_path) / (1024 * 1024)\n",
    "    print(f\" Parquet file size: {results['Parquet Size (MB)']:.2f} MB\")\n",
    "\n",
    "    return results"
   ]
  },
  {
   "cell_type": "code",
   "execution_count": 5,
   "id": "03caf3c1-e10c-4c45-a1a2-0aef107ebb2c",
   "metadata": {},
   "outputs": [
    {
     "name": "stdout",
     "output_type": "stream",
     "text": [
      "\n",
      "🚀 Benchmarking for 1x dataset...\n",
      "\n",
      "CSV written: stocks_1x.csv in 2.38 seconds\n",
      "📖 CSV read completed in 0.37 seconds\n",
      "📂 CSV file size: 28.21 MB\n",
      " Parquet written: stocks_1x.parquet in 0.22 seconds\n",
      "Parquet read completed in 0.17 seconds\n",
      " Parquet file size: 10.15 MB\n",
      "\n",
      "🚀 Benchmarking for 10x dataset...\n",
      "\n",
      "CSV written: stocks_10x.csv in 23.37 seconds\n",
      "📖 CSV read completed in 3.61 seconds\n",
      "📂 CSV file size: 282.10 MB\n",
      " Parquet written: stocks_10x.parquet in 1.96 seconds\n",
      "Parquet read completed in 0.57 seconds\n",
      " Parquet file size: 95.35 MB\n",
      "\n",
      "🚀 Benchmarking for 100x dataset...\n",
      "\n",
      "CSV written: stocks_100x.csv in 240.81 seconds\n",
      "📖 CSV read completed in 59.47 seconds\n",
      "📂 CSV file size: 2821.02 MB\n",
      " Parquet written: stocks_100x.parquet in 26.11 seconds\n",
      "Parquet read completed in 21.84 seconds\n",
      " Parquet file size: 951.71 MB\n"
     ]
    }
   ],
   "source": [
    "# run benchmarks for 1x, 10x, and 100x\n",
    "benchmark_results = []\n",
    "for scale in [1, 10, 100]:  # now fully benchmarks CSV & parquex at 100x\n",
    "    benchmark_results.append(benchmark_storage(df, scale))"
   ]
  },
  {
   "cell_type": "code",
   "execution_count": 6,
   "id": "892a61e5-4fe4-4991-8a33-b2a4ee320d03",
   "metadata": {},
   "outputs": [
    {
     "name": "stdout",
     "output_type": "stream",
     "text": [
      "\n",
      "Benchmarking Results:\n",
      "\n",
      "   Scale  CSV Read Time (s)  CSV Write Time (s)  CSV Size (MB)  \\\n",
      "0      1           0.371634            2.375720      28.210210   \n",
      "1     10           3.612562           23.365336     282.101781   \n",
      "2    100          59.466201          240.814782    2821.017491   \n",
      "\n",
      "   Parquet Read Time (s)  Parquet Write Time (s)  Parquet Size (MB)  \n",
      "0               0.172529                0.218260          10.151486  \n",
      "1               0.571065                1.962999          95.354862  \n",
      "2              21.841824               26.111475         951.709558  \n"
     ]
    }
   ],
   "source": [
    "# convert to df and print\n",
    "\n",
    "df_results = pd.DataFrame(benchmark_results)\n",
    "print(\"\\nBenchmarking Results:\\n\")\n",
    "print(df_results)"
   ]
  },
  {
   "cell_type": "code",
   "execution_count": 7,
   "id": "8e2bac81-70cd-41b6-a748-27bd5e4f5305",
   "metadata": {},
   "outputs": [
    {
     "name": "stdout",
     "output_type": "stream",
     "text": [
      "\n",
      "Benchmarking Results:\n",
      "\n",
      "   Scale  CSV Read Time (s)  CSV Write Time (s)  CSV Size (MB)  \\\n",
      "0      1           0.371634            2.375720      28.210210   \n",
      "1     10           3.612562           23.365336     282.101781   \n",
      "2    100          59.466201          240.814782    2821.017491   \n",
      "\n",
      "   Parquet Read Time (s)  Parquet Write Time (s)  Parquet Size (MB)  \n",
      "0               0.172529                0.218260          10.151486  \n",
      "1               0.571065                1.962999          95.354862  \n",
      "2              21.841824               26.111475         951.709558  \n"
     ]
    }
   ],
   "source": [
    "#save to csv\n",
    "\n",
    "df_results = pd.DataFrame(benchmark_results)\n",
    "print(\"\\nBenchmarking Results:\\n\")\n",
    "print(df_results)"
   ]
  },
  {
   "cell_type": "code",
   "execution_count": null,
   "id": "26e1e219-6fd2-404c-b2fd-12449d325cb1",
   "metadata": {},
   "outputs": [],
   "source": []
  }
 ],
 "metadata": {
  "kernelspec": {
   "display_name": "Python 3 (ipykernel)",
   "language": "python",
   "name": "python3"
  },
  "language_info": {
   "codemirror_mode": {
    "name": "ipython",
    "version": 3
   },
   "file_extension": ".py",
   "mimetype": "text/x-python",
   "name": "python",
   "nbconvert_exporter": "python",
   "pygments_lexer": "ipython3",
   "version": "3.12.4"
  }
 },
 "nbformat": 4,
 "nbformat_minor": 5
}
