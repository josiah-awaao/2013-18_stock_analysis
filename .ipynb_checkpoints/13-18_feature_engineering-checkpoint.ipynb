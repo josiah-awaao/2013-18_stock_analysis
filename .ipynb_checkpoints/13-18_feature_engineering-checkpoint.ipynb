{
 "cells": [
  {
   "cell_type": "code",
   "execution_count": null,
   "id": "4686e7eb-8d00-4dec-a9af-df2136b4867f",
   "metadata": {},
   "outputs": [],
   "source": [
    "# pip install pandas polars scikit-learn ta matplotlib seaborn pyarrow fastparquet\n",
    "# pip install xgboost"
   ]
  },
  {
   "cell_type": "code",
   "execution_count": 33,
   "id": "e58f628e-e55b-4df6-aaea-009a48905f98",
   "metadata": {},
   "outputs": [],
   "source": [
    "import pandas as pd\n",
    "import polars as pl\n",
    "import time\n",
    "import ta\n",
    "from sklearn.linear_model import LinearRegression\n",
    "from sklearn.metrics import mean_absolute_error\n",
    "from sklearn.model_selection import train_test_split\n",
    "from sklearn.preprocessing import StandardScaler\n",
    "from xgboost import XGBRegressor"
   ]
  },
  {
   "cell_type": "code",
   "execution_count": 17,
   "id": "6558b304-9781-47b2-804f-843c8c4a8a72",
   "metadata": {},
   "outputs": [
    {
     "name": "stdout",
     "output_type": "stream",
     "text": [
      "Pandas Time: 0.0149 sec\n",
      "⚡ Polars Time: 0.0080 sec\n"
     ]
    }
   ],
   "source": [
    "# load dataset into pandas\n",
    "df = pd.read_csv(\"all_stocks_5yr.csv\")\n",
    "\n",
    "# convert pandas to polars\n",
    "df_polars = pl.from_pandas(df)\n",
    "\n",
    "# measure pandas processing time\n",
    "start = time.time()\n",
    "df_pandas[\"daily_return\"] = df_pandas[\"close\"].pct_change()\n",
    "pandas_time = time.time() - start\n",
    "\n",
    "# measure polars processing time\n",
    "start = time.time()\n",
    "df_polars = df_polars.with_columns((df_polars[\"close\"].pct_change()).alias(\"daily_return\"))\n",
    "polars_time = time.time() - start\n",
    "\n",
    "print(f\"Pandas Time: {pandas_time:.4f} sec\")\n",
    "print(f\"⚡ Polars Time: {polars_time:.4f} sec\")"
   ]
  },
  {
   "cell_type": "code",
   "execution_count": 19,
   "id": "8b854a66-9126-448d-bff2-f62d53337236",
   "metadata": {},
   "outputs": [
    {
     "name": "stdout",
     "output_type": "stream",
     "text": [
      "         date   open   high    low  close    volume name  SMA_14     EMA_14  \\\n",
      "0  2013-02-08  15.07  15.12  14.63  14.75   8407500  AAL     NaN  14.750000   \n",
      "1  2013-02-11  14.89  15.01  14.26  14.46   8882000  AAL     NaN  14.711333   \n",
      "2  2013-02-12  14.45  14.51  14.10  14.27   8126000  AAL     NaN  14.652489   \n",
      "3  2013-02-13  14.30  14.94  14.25  14.66  10259500  AAL     NaN  14.653490   \n",
      "4  2013-02-14  14.94  14.96  13.16  13.99  31879900  AAL     NaN  14.565025   \n",
      "\n",
      "   RSI_14  MACD  \n",
      "0     NaN   NaN  \n",
      "1     NaN   NaN  \n",
      "2     NaN   NaN  \n",
      "3     NaN   NaN  \n",
      "4     NaN   NaN  \n"
     ]
    }
   ],
   "source": [
    "# calculate indicators\n",
    "\n",
    "df[\"SMA_14\"] = df.groupby(\"name\")[\"close\"].transform(lambda x: x.rolling(14).mean())\n",
    "df[\"EMA_14\"] = df.groupby(\"name\")[\"close\"].transform(lambda x: x.ewm(span=14, adjust=False).mean())\n",
    "df[\"RSI_14\"] = df.groupby(\"name\")[\"close\"].transform(lambda x: ta.momentum.rsi(x, window=14))\n",
    "df[\"MACD\"] = df.groupby(\"name\")[\"close\"].transform(lambda x: ta.trend.macd(x))\n",
    "\n",
    "print(df.head())"
   ]
  },
  {
   "cell_type": "markdown",
   "id": "65978932-2794-4245-8588-b9e7ec874f18",
   "metadata": {},
   "source": [
    "## train test splite (80-20)"
   ]
  },
  {
   "cell_type": "code",
   "execution_count": 23,
   "id": "f4302c17-b924-4fb9-85f3-2fea13b17104",
   "metadata": {},
   "outputs": [
    {
     "name": "stdout",
     "output_type": "stream",
     "text": [
      "Training Data: (485126, 8), Testing Data: (121282, 8)\n"
     ]
    }
   ],
   "source": [
    "# linear regression and random forest regressor\n",
    "\n",
    "# drop rows with NaN (from rolling calculations)\n",
    "df = df.dropna()\n",
    "\n",
    "# define features & target\n",
    "features = [\"SMA_14\", \"EMA_14\", \"RSI_14\", \"MACD\", \"open\", \"high\", \"low\", \"volume\"]\n",
    "target = \"close\"\n",
    "\n",
    "X = df[features]\n",
    "y = df[target]\n",
    "\n",
    "# train-test split (80-20)\n",
    "X_train, X_test, y_train, y_test = train_test_split(X, y, test_size=0.2, shuffle=False)\n",
    "\n",
    "# scale features\n",
    "scaler = StandardScaler()\n",
    "X_train = scaler.fit_transform(X_train)\n",
    "X_test = scaler.transform(X_test)\n",
    "\n",
    "print(f\"Training Data: {X_train.shape}, Testing Data: {X_test.shape}\")"
   ]
  },
  {
   "cell_type": "markdown",
   "id": "61865fbf-344c-4353-b8ec-7d77dc325cc7",
   "metadata": {},
   "source": [
    "## optimized random forest"
   ]
  },
  {
   "cell_type": "code",
   "execution_count": 28,
   "id": "92486bd2-bf4d-4b62-9e1a-a787db8632c4",
   "metadata": {},
   "outputs": [
    {
     "name": "stdout",
     "output_type": "stream",
     "text": [
      "Random Forest MAE: 0.2978\n"
     ]
    }
   ],
   "source": [
    "rf_model = RandomForestRegressor(n_estimators=50, n_jobs=-1, random_state=42)  # uses 50 trees, all CPU cores\n",
    "rf_model.fit(X_train, y_train)\n",
    "\n",
    "y_pred_rf = rf_model.predict(X_test)\n",
    "mae_rf = mean_absolute_error(y_test, y_pred_rf)\n",
    "\n",
    "print(f\"Random Forest MAE: {mae_rf:.4f}\")"
   ]
  },
  {
   "cell_type": "markdown",
   "id": "c319943b-cc56-4bff-839e-920b3c2f81a3",
   "metadata": {},
   "source": [
    "## xgboost model"
   ]
  },
  {
   "cell_type": "code",
   "execution_count": 35,
   "id": "7aa56647-803f-44d3-aaa4-c724f70baa2d",
   "metadata": {},
   "outputs": [
    {
     "name": "stdout",
     "output_type": "stream",
     "text": [
      "XGBoost MAE: 0.5644\n"
     ]
    }
   ],
   "source": [
    "xgb_model = XGBRegressor(n_estimators=100, tree_method=\"hist\", random_state=42)  # \"hist\" makes it very fast\n",
    "xgb_model.fit(X_train, y_train)\n",
    "\n",
    "y_pred_xgb = xgb_model.predict(X_test)\n",
    "mae_xgb = mean_absolute_error(y_test, y_pred_xgb)\n",
    "\n",
    "print(f\"XGBoost MAE: {mae_xgb:.4f}\")"
   ]
  },
  {
   "cell_type": "code",
   "execution_count": 39,
   "id": "5abd167a-0c59-425f-90d3-e8ace449ba01",
   "metadata": {},
   "outputs": [
    {
     "name": "stdout",
     "output_type": "stream",
     "text": [
      "\n",
      "Random Forest performed better!\n"
     ]
    }
   ],
   "source": [
    "#compare models\n",
    "\n",
    "if mae_xgb < mae_rf:\n",
    "    print(\"\\nXGBoost is more accurate than Random Forest!\")\n",
    "else:\n",
    "    print(\"\\nRandom Forest performed better!\")"
   ]
  },
  {
   "cell_type": "markdown",
   "id": "f29ea1cc-2207-4992-894f-1d09d3b52ca1",
   "metadata": {},
   "source": [
    "## linear regression"
   ]
  },
  {
   "cell_type": "code",
   "execution_count": 45,
   "id": "1715f329-073c-431f-9e16-c7f1b90d1293",
   "metadata": {},
   "outputs": [
    {
     "name": "stdout",
     "output_type": "stream",
     "text": [
      "Linear Regression MAE: 0.3057\n",
      "\n",
      "Model Comparison:\n",
      "Linear Regression MAE: 0.3057\n",
      "Random Forest MAE: 0.2978\n",
      "XGBoost MAE: 0.5644\n",
      "\n",
      "Best Model: Random Forest with MAE: 0.2978\n"
     ]
    }
   ],
   "source": [
    "#just curious how will linear regression perform with the two\n",
    "\n",
    "lr_model = LinearRegression()\n",
    "lr_model.fit(X_train, y_train)\n",
    "y_pred_lr = lr_model.predict(X_test)\n",
    "mae_lr = mean_absolute_error(y_test, y_pred_lr)\n",
    "print(f\"Linear Regression MAE: {mae_lr:.4f}\")\n",
    "\n",
    "# compare all models\n",
    "print(\"\\nModel Comparison:\")\n",
    "print(f\"Linear Regression MAE: {mae_lr:.4f}\")\n",
    "print(f\"Random Forest MAE: {mae_rf:.4f}\")\n",
    "print(f\"XGBoost MAE: {mae_xgb:.4f}\")\n",
    "\n",
    "best_model = min([(\"Linear Regression\", mae_lr), (\"Random Forest\", mae_rf), (\"XGBoost\", mae_xgb)], key=lambda x: x[1])\n",
    "print(f\"\\nBest Model: {best_model[0]} with MAE: {best_model[1]:.4f}\")"
   ]
  },
  {
   "cell_type": "code",
   "execution_count": null,
   "id": "b85e7bd1-5b12-4694-a8e3-4a2d5432f2d9",
   "metadata": {},
   "outputs": [],
   "source": []
  }
 ],
 "metadata": {
  "kernelspec": {
   "display_name": "Python 3 (ipykernel)",
   "language": "python",
   "name": "python3"
  },
  "language_info": {
   "codemirror_mode": {
    "name": "ipython",
    "version": 3
   },
   "file_extension": ".py",
   "mimetype": "text/x-python",
   "name": "python",
   "nbconvert_exporter": "python",
   "pygments_lexer": "ipython3",
   "version": "3.12.4"
  }
 },
 "nbformat": 4,
 "nbformat_minor": 5
}
