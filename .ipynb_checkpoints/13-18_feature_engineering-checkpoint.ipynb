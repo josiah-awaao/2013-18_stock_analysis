{
 "cells": [
  {
   "cell_type": "code",
   "execution_count": null,
   "id": "4686e7eb-8d00-4dec-a9af-df2136b4867f",
   "metadata": {},
   "outputs": [],
   "source": [
    "# pip install pandas polars scikit-learn ta matplotlib seaborn pyarrow fastparquet"
   ]
  },
  {
   "cell_type": "code",
   "execution_count": 13,
   "id": "e58f628e-e55b-4df6-aaea-009a48905f98",
   "metadata": {},
   "outputs": [],
   "source": [
    "import pandas as pd\n",
    "import polars as pl\n",
    "import time\n",
    "import ta\n",
    "from sklearn.linear_model import LinearRegression\n",
    "from sklearn.metrics import mean_absolute_error\n",
    "from sklearn.model_selection import train_test_split\n",
    "from sklearn.preprocessing import StandardScaler"
   ]
  },
  {
   "cell_type": "code",
   "execution_count": 3,
   "id": "6558b304-9781-47b2-804f-843c8c4a8a72",
   "metadata": {},
   "outputs": [
    {
     "name": "stdout",
     "output_type": "stream",
     "text": [
      "Pandas Time: 0.0216 sec\n",
      "⚡ Polars Time: 0.0091 sec\n"
     ]
    }
   ],
   "source": [
    "# load dataset into pandas\n",
    "df_pandas = pd.read_csv(\"all_stocks_5yr.csv\")\n",
    "\n",
    "# convert pandas to polars\n",
    "df_polars = pl.from_pandas(df_pandas)\n",
    "\n",
    "# measure pandas processing time\n",
    "start = time.time()\n",
    "df_pandas[\"daily_return\"] = df_pandas[\"close\"].pct_change()\n",
    "pandas_time = time.time() - start\n",
    "\n",
    "# measure polars processing time\n",
    "start = time.time()\n",
    "df_polars = df_polars.with_columns((df_polars[\"close\"].pct_change()).alias(\"daily_return\"))\n",
    "polars_time = time.time() - start\n",
    "\n",
    "print(f\"Pandas Time: {pandas_time:.4f} sec\")\n",
    "print(f\"⚡ Polars Time: {polars_time:.4f} sec\")"
   ]
  },
  {
   "cell_type": "code",
   "execution_count": 7,
   "id": "8b854a66-9126-448d-bff2-f62d53337236",
   "metadata": {},
   "outputs": [
    {
     "name": "stdout",
     "output_type": "stream",
     "text": [
      "         date   open   high    low  close    volume name  daily_return  \\\n",
      "0  2013-02-08  15.07  15.12  14.63  14.75   8407500  AAL           NaN   \n",
      "1  2013-02-11  14.89  15.01  14.26  14.46   8882000  AAL     -0.019661   \n",
      "2  2013-02-12  14.45  14.51  14.10  14.27   8126000  AAL     -0.013140   \n",
      "3  2013-02-13  14.30  14.94  14.25  14.66  10259500  AAL      0.027330   \n",
      "4  2013-02-14  14.94  14.96  13.16  13.99  31879900  AAL     -0.045703   \n",
      "\n",
      "   SMA_14     EMA_14  RSI_14  MACD  \n",
      "0     NaN  14.750000     NaN   NaN  \n",
      "1     NaN  14.711333     NaN   NaN  \n",
      "2     NaN  14.652489     NaN   NaN  \n",
      "3     NaN  14.653490     NaN   NaN  \n",
      "4     NaN  14.565025     NaN   NaN  \n"
     ]
    }
   ],
   "source": [
    "# calculate indicators\n",
    "df_pandas[\"SMA_14\"] = df_pandas.groupby(\"name\")[\"close\"].transform(lambda x: x.rolling(14).mean())\n",
    "df_pandas[\"EMA_14\"] = df_pandas.groupby(\"name\")[\"close\"].transform(lambda x: x.ewm(span=14, adjust=False).mean())\n",
    "df_pandas[\"RSI_14\"] = df_pandas.groupby(\"name\")[\"close\"].transform(lambda x: ta.momentum.rsi(x, window=14))\n",
    "df_pandas[\"MACD\"] = df_pandas.groupby(\"name\")[\"close\"].transform(lambda x: ta.trend.macd(x))\n",
    "\n",
    "print(df_pandas.head())"
   ]
  },
  {
   "cell_type": "code",
   "execution_count": 15,
   "id": "f4302c17-b924-4fb9-85f3-2fea13b17104",
   "metadata": {},
   "outputs": [
    {
     "name": "stdout",
     "output_type": "stream",
     "text": [
      "✅ Training Data: (485126, 8), Testing Data: (121282, 8)\n"
     ]
    }
   ],
   "source": [
    "# linear regression and random forest regressor\n",
    "\n",
    "# drop rows with NaN (from rolling calculations)\n",
    "df_pandas = df_pandas.dropna()\n",
    "\n",
    "# define features & target\n",
    "features = [\"SMA_14\", \"EMA_14\", \"RSI_14\", \"MACD\", \"open\", \"high\", \"low\", \"volume\"]\n",
    "target = \"close\"\n",
    "\n",
    "X = df_pandas[features]\n",
    "y = df_pandas[target]\n",
    "\n",
    "# train-test split (80-20)\n",
    "X_train, X_test, y_train, y_test = train_test_split(X, y, test_size=0.2, shuffle=False)\n",
    "\n",
    "# scale features\n",
    "scaler = StandardScaler()\n",
    "X_train = scaler.fit_transform(X_train)\n",
    "X_test = scaler.transform(X_test)\n",
    "\n",
    "print(f\"✅ Training Data: {X_train.shape}, Testing Data: {X_test.shape}\")"
   ]
  },
  {
   "cell_type": "code",
   "execution_count": null,
   "id": "566a513b-26be-4d1d-81f1-fcb83d6967df",
   "metadata": {},
   "outputs": [],
   "source": []
  }
 ],
 "metadata": {
  "kernelspec": {
   "display_name": "Python 3 (ipykernel)",
   "language": "python",
   "name": "python3"
  },
  "language_info": {
   "codemirror_mode": {
    "name": "ipython",
    "version": 3
   },
   "file_extension": ".py",
   "mimetype": "text/x-python",
   "name": "python",
   "nbconvert_exporter": "python",
   "pygments_lexer": "ipython3",
   "version": "3.12.4"
  }
 },
 "nbformat": 4,
 "nbformat_minor": 5
}
